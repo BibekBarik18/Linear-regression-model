{
 "cells": [
  {
   "cell_type": "markdown",
   "metadata": {},
   "source": [
    "Import the necessary libaries"
   ]
  },
  {
   "cell_type": "code",
   "execution_count": 1,
   "metadata": {},
   "outputs": [],
   "source": [
    "import pandas as pd\n",
    "from sklearn.model_selection import train_test_split\n",
    "from sklearn.linear_model import LinearRegression as lr\n",
    "from sklearn.metrics import mean_absolute_error,mean_squared_error\n",
    "import numpy as np"
   ]
  },
  {
   "cell_type": "markdown",
   "metadata": {},
   "source": [
    "Import dataset"
   ]
  },
  {
   "cell_type": "code",
   "execution_count": 2,
   "metadata": {},
   "outputs": [],
   "source": [
    "c=pd.read_csv(r\"C:\\Users\\bmbar\\Documents\\data.csv\")"
   ]
  },
  {
   "cell_type": "markdown",
   "metadata": {},
   "source": [
    "Visualizing the dataset"
   ]
  },
  {
   "cell_type": "code",
   "execution_count": 3,
   "metadata": {},
   "outputs": [
    {
     "data": {
      "text/html": [
       "<div>\n",
       "<style scoped>\n",
       "    .dataframe tbody tr th:only-of-type {\n",
       "        vertical-align: middle;\n",
       "    }\n",
       "\n",
       "    .dataframe tbody tr th {\n",
       "        vertical-align: top;\n",
       "    }\n",
       "\n",
       "    .dataframe thead th {\n",
       "        text-align: right;\n",
       "    }\n",
       "</style>\n",
       "<table border=\"1\" class=\"dataframe\">\n",
       "  <thead>\n",
       "    <tr style=\"text-align: right;\">\n",
       "      <th></th>\n",
       "      <th>ozone</th>\n",
       "      <th>vh</th>\n",
       "      <th>wind</th>\n",
       "      <th>humidity</th>\n",
       "      <th>temp</th>\n",
       "      <th>ibh</th>\n",
       "      <th>dpg</th>\n",
       "      <th>ibt</th>\n",
       "      <th>vis</th>\n",
       "      <th>doy</th>\n",
       "    </tr>\n",
       "  </thead>\n",
       "  <tbody>\n",
       "    <tr>\n",
       "      <th>0</th>\n",
       "      <td>3</td>\n",
       "      <td>5710</td>\n",
       "      <td>4</td>\n",
       "      <td>28</td>\n",
       "      <td>40</td>\n",
       "      <td>2693</td>\n",
       "      <td>-25</td>\n",
       "      <td>87</td>\n",
       "      <td>250</td>\n",
       "      <td>3</td>\n",
       "    </tr>\n",
       "    <tr>\n",
       "      <th>1</th>\n",
       "      <td>5</td>\n",
       "      <td>5700</td>\n",
       "      <td>3</td>\n",
       "      <td>37</td>\n",
       "      <td>45</td>\n",
       "      <td>590</td>\n",
       "      <td>-24</td>\n",
       "      <td>128</td>\n",
       "      <td>100</td>\n",
       "      <td>4</td>\n",
       "    </tr>\n",
       "    <tr>\n",
       "      <th>2</th>\n",
       "      <td>5</td>\n",
       "      <td>5760</td>\n",
       "      <td>3</td>\n",
       "      <td>51</td>\n",
       "      <td>54</td>\n",
       "      <td>1450</td>\n",
       "      <td>25</td>\n",
       "      <td>139</td>\n",
       "      <td>60</td>\n",
       "      <td>5</td>\n",
       "    </tr>\n",
       "    <tr>\n",
       "      <th>3</th>\n",
       "      <td>6</td>\n",
       "      <td>5720</td>\n",
       "      <td>4</td>\n",
       "      <td>69</td>\n",
       "      <td>35</td>\n",
       "      <td>1568</td>\n",
       "      <td>15</td>\n",
       "      <td>121</td>\n",
       "      <td>60</td>\n",
       "      <td>6</td>\n",
       "    </tr>\n",
       "    <tr>\n",
       "      <th>4</th>\n",
       "      <td>4</td>\n",
       "      <td>5790</td>\n",
       "      <td>6</td>\n",
       "      <td>19</td>\n",
       "      <td>45</td>\n",
       "      <td>2631</td>\n",
       "      <td>-33</td>\n",
       "      <td>123</td>\n",
       "      <td>100</td>\n",
       "      <td>7</td>\n",
       "    </tr>\n",
       "    <tr>\n",
       "      <th>...</th>\n",
       "      <td>...</td>\n",
       "      <td>...</td>\n",
       "      <td>...</td>\n",
       "      <td>...</td>\n",
       "      <td>...</td>\n",
       "      <td>...</td>\n",
       "      <td>...</td>\n",
       "      <td>...</td>\n",
       "      <td>...</td>\n",
       "      <td>...</td>\n",
       "    </tr>\n",
       "    <tr>\n",
       "      <th>324</th>\n",
       "      <td>3</td>\n",
       "      <td>5680</td>\n",
       "      <td>4</td>\n",
       "      <td>57</td>\n",
       "      <td>47</td>\n",
       "      <td>508</td>\n",
       "      <td>-10</td>\n",
       "      <td>148</td>\n",
       "      <td>100</td>\n",
       "      <td>358</td>\n",
       "    </tr>\n",
       "    <tr>\n",
       "      <th>325</th>\n",
       "      <td>8</td>\n",
       "      <td>5630</td>\n",
       "      <td>4</td>\n",
       "      <td>50</td>\n",
       "      <td>50</td>\n",
       "      <td>2851</td>\n",
       "      <td>-5</td>\n",
       "      <td>100</td>\n",
       "      <td>70</td>\n",
       "      <td>359</td>\n",
       "    </tr>\n",
       "    <tr>\n",
       "      <th>326</th>\n",
       "      <td>2</td>\n",
       "      <td>5730</td>\n",
       "      <td>3</td>\n",
       "      <td>53</td>\n",
       "      <td>51</td>\n",
       "      <td>111</td>\n",
       "      <td>-14</td>\n",
       "      <td>225</td>\n",
       "      <td>200</td>\n",
       "      <td>362</td>\n",
       "    </tr>\n",
       "    <tr>\n",
       "      <th>327</th>\n",
       "      <td>3</td>\n",
       "      <td>5690</td>\n",
       "      <td>3</td>\n",
       "      <td>23</td>\n",
       "      <td>51</td>\n",
       "      <td>5000</td>\n",
       "      <td>-36</td>\n",
       "      <td>107</td>\n",
       "      <td>70</td>\n",
       "      <td>363</td>\n",
       "    </tr>\n",
       "    <tr>\n",
       "      <th>328</th>\n",
       "      <td>5</td>\n",
       "      <td>5650</td>\n",
       "      <td>3</td>\n",
       "      <td>61</td>\n",
       "      <td>50</td>\n",
       "      <td>3704</td>\n",
       "      <td>18</td>\n",
       "      <td>83</td>\n",
       "      <td>40</td>\n",
       "      <td>364</td>\n",
       "    </tr>\n",
       "  </tbody>\n",
       "</table>\n",
       "<p>329 rows × 10 columns</p>\n",
       "</div>"
      ],
      "text/plain": [
       "     ozone    vh  wind  humidity  temp   ibh  dpg  ibt  vis  doy\n",
       "0        3  5710     4        28    40  2693  -25   87  250    3\n",
       "1        5  5700     3        37    45   590  -24  128  100    4\n",
       "2        5  5760     3        51    54  1450   25  139   60    5\n",
       "3        6  5720     4        69    35  1568   15  121   60    6\n",
       "4        4  5790     6        19    45  2631  -33  123  100    7\n",
       "..     ...   ...   ...       ...   ...   ...  ...  ...  ...  ...\n",
       "324      3  5680     4        57    47   508  -10  148  100  358\n",
       "325      8  5630     4        50    50  2851   -5  100   70  359\n",
       "326      2  5730     3        53    51   111  -14  225  200  362\n",
       "327      3  5690     3        23    51  5000  -36  107   70  363\n",
       "328      5  5650     3        61    50  3704   18   83   40  364\n",
       "\n",
       "[329 rows x 10 columns]"
      ]
     },
     "execution_count": 3,
     "metadata": {},
     "output_type": "execute_result"
    }
   ],
   "source": [
    "c"
   ]
  },
  {
   "cell_type": "markdown",
   "metadata": {},
   "source": [
    "Splitting the dataset into features and labels"
   ]
  },
  {
   "cell_type": "code",
   "execution_count": 4,
   "metadata": {},
   "outputs": [],
   "source": [
    "X=c.iloc[:,1:10]\n",
    "y=c.iloc[:,:1]\n",
    "X=np.array(X)\n",
    "y=np.array(y)\n"
   ]
  },
  {
   "cell_type": "markdown",
   "metadata": {},
   "source": [
    "Spliting the dataset into training and testing data"
   ]
  },
  {
   "cell_type": "code",
   "execution_count": 5,
   "metadata": {},
   "outputs": [],
   "source": [
    "X_train,X_test,y_train,y_test=train_test_split(X,y,test_size=0.1)"
   ]
  },
  {
   "cell_type": "markdown",
   "metadata": {},
   "source": [
    "Fitting the model and checking its accuracy"
   ]
  },
  {
   "cell_type": "code",
   "execution_count": 6,
   "metadata": {},
   "outputs": [
    {
     "name": "stdout",
     "output_type": "stream",
     "text": [
      "0.6409592436131479\n"
     ]
    }
   ],
   "source": [
    "model=lr()\n",
    "model.fit(X_train,y_train)\n",
    "print(model.score(X_test, y_test))"
   ]
  },
  {
   "cell_type": "markdown",
   "metadata": {},
   "source": [
    "Checking the output for testing data"
   ]
  },
  {
   "cell_type": "code",
   "execution_count": 7,
   "metadata": {},
   "outputs": [
    {
     "name": "stdout",
     "output_type": "stream",
     "text": [
      "[[13.10845693]\n",
      " [10.16371639]\n",
      " [14.42837661]\n",
      " [ 1.16208977]\n",
      " [12.39493959]\n",
      " [19.12041887]\n",
      " [ 6.94117221]\n",
      " [14.40040091]\n",
      " [22.17142044]\n",
      " [15.43201939]\n",
      " [23.07374444]\n",
      " [ 6.55982875]\n",
      " [19.93945077]\n",
      " [14.65860391]\n",
      " [ 4.57263835]\n",
      " [13.83411439]\n",
      " [22.79388332]\n",
      " [22.81421616]\n",
      " [ 4.38129579]\n",
      " [ 8.88091709]\n",
      " [22.5128731 ]\n",
      " [24.63376592]\n",
      " [ 9.55573665]\n",
      " [12.96130596]\n",
      " [10.39469108]\n",
      " [ 5.13484872]\n",
      " [ 3.64132007]\n",
      " [24.05239604]\n",
      " [ 3.89275922]\n",
      " [19.33915827]\n",
      " [ 6.702826  ]\n",
      " [10.22331222]\n",
      " [13.11798112]]\n"
     ]
    }
   ],
   "source": [
    "pred=model.predict(X_test)\n",
    "print(pred)"
   ]
  },
  {
   "cell_type": "markdown",
   "metadata": {},
   "source": [
    "Checking the output for random data"
   ]
  },
  {
   "cell_type": "code",
   "execution_count": 8,
   "metadata": {},
   "outputs": [],
   "source": [
    "x=[[5810,8,69,76,2394,54,209,90,198]]\n",
    "x=np.array(x)"
   ]
  },
  {
   "cell_type": "code",
   "execution_count": 9,
   "metadata": {},
   "outputs": [
    {
     "data": {
      "text/plain": [
       "array([[17.54303181]])"
      ]
     },
     "execution_count": 9,
     "metadata": {},
     "output_type": "execute_result"
    }
   ],
   "source": [
    "pre=model.predict(x)\n",
    "pre"
   ]
  }
 ],
 "metadata": {
  "kernelspec": {
   "display_name": "tf",
   "language": "python",
   "name": "python3"
  },
  "language_info": {
   "codemirror_mode": {
    "name": "ipython",
    "version": 3
   },
   "file_extension": ".py",
   "mimetype": "text/x-python",
   "name": "python",
   "nbconvert_exporter": "python",
   "pygments_lexer": "ipython3",
   "version": "3.9.18"
  }
 },
 "nbformat": 4,
 "nbformat_minor": 2
}
